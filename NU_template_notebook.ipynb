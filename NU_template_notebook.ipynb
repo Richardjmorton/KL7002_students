{
 "cells": [
  {
   "cell_type": "markdown",
   "id": "84e79d27",
   "metadata": {},
   "source": [
    "Due to the personalised desktops implemented by Northumbria University, self-installed modules get written to temporary folders in your personal workspace.\n",
    "\n",
    "For Python to find the modules and files you install, you will need to add the path to the temporary folder to the Python `PATH` variable (which is basically a list of folders that Python knows to look in).\n",
    "\n",
    "This is an example of me adding my temporary folder:"
   ]
  },
  {
   "cell_type": "code",
   "execution_count": null,
   "id": "724d15bb",
   "metadata": {},
   "outputs": [],
   "source": [
    "import sys\n",
    "sys.path.append('C:\\\\Users\\\\rtsy4\\\\AppData\\\\Roaming\\\\Python\\\\Python39\\\\Scripts')\n",
    "sys.path.append('C:\\\\Users\\\\rtsy4\\\\AppData\\\\Roaming\\\\Python\\\\Python39\\\\\\site-packages')"
   ]
  },
  {
   "cell_type": "markdown",
   "id": "28803e45",
   "metadata": {},
   "source": [
    "You add similar code to the start of your notebooks. I am unsure on the exact form of the file system on the student desktops, but you will probably need to only change `rtsy4` for your user name."
   ]
  },
  {
   "cell_type": "code",
   "execution_count": null,
   "id": "681237a6",
   "metadata": {},
   "outputs": [],
   "source": []
  }
 ],
 "metadata": {
  "kernelspec": {
   "display_name": "Python 3 (ipykernel)",
   "language": "python",
   "name": "python3"
  },
  "language_info": {
   "codemirror_mode": {
    "name": "ipython",
    "version": 3
   },
   "file_extension": ".py",
   "mimetype": "text/x-python",
   "name": "python",
   "nbconvert_exporter": "python",
   "pygments_lexer": "ipython3",
   "version": "3.11.5"
  },
  "toc": {
   "base_numbering": 1,
   "nav_menu": {},
   "number_sections": true,
   "sideBar": true,
   "skip_h1_title": false,
   "title_cell": "Table of Contents",
   "title_sidebar": "Contents",
   "toc_cell": false,
   "toc_position": {},
   "toc_section_display": true,
   "toc_window_display": false
  }
 },
 "nbformat": 4,
 "nbformat_minor": 5
}
