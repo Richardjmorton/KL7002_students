{
  "nbformat": 4,
  "nbformat_minor": 0,
  "metadata": {
    "colab": {
      "provenance": [],
      "authorship_tag": "ABX9TyNeWNeAVym7f/NC3/AprO0v",
      "include_colab_link": true
    },
    "kernelspec": {
      "name": "python3",
      "display_name": "Python 3"
    },
    "language_info": {
      "name": "python"
    }
  },
  "cells": [
    {
      "cell_type": "markdown",
      "metadata": {
        "id": "view-in-github",
        "colab_type": "text"
      },
      "source": [
        "<a href=\"https://colab.research.google.com/github/Richardjmorton/KL7002_students/blob/main/Labs1_Reading_in_data.ipynb\" target=\"_parent\"><img src=\"https://colab.research.google.com/assets/colab-badge.svg\" alt=\"Open In Colab\"/></a>"
      ]
    },
    {
      "cell_type": "code",
      "execution_count": 2,
      "metadata": {
        "colab": {
          "base_uri": "https://localhost:8080/"
        },
        "id": "opCJEZ-mjLiu",
        "outputId": "820d3359-1fa1-46af-8044-361995278133"
      },
      "outputs": [
        {
          "output_type": "stream",
          "name": "stdout",
          "text": [
            "Looking in indexes: https://pypi.org/simple, https://us-python.pkg.dev/colab-wheels/public/simple/\n",
            "Collecting sunpy\n",
            "  Downloading sunpy-5.0.0-cp39-abi3-manylinux_2_17_x86_64.manylinux2014_x86_64.whl (3.3 MB)\n",
            "\u001b[2K     \u001b[90m━━━━━━━━━━━━━━━━━━━━━━━━━━━━━━━━━━━━━━━━\u001b[0m \u001b[32m3.3/3.3 MB\u001b[0m \u001b[31m45.4 MB/s\u001b[0m eta \u001b[36m0:00:00\u001b[0m\n",
            "\u001b[?25hRequirement already satisfied: astropy>=5.0.1 in /usr/local/lib/python3.10/dist-packages (from sunpy) (5.2.2)\n",
            "Requirement already satisfied: numpy>=1.21.0 in /usr/local/lib/python3.10/dist-packages (from sunpy) (1.22.4)\n",
            "Requirement already satisfied: packaging>=19.0 in /usr/local/lib/python3.10/dist-packages (from sunpy) (23.1)\n",
            "Collecting parfive[ftp]>=2.0.0 (from sunpy)\n",
            "  Downloading parfive-2.0.2-py3-none-any.whl (26 kB)\n",
            "Requirement already satisfied: pyerfa>=2.0 in /usr/local/lib/python3.10/dist-packages (from astropy>=5.0.1->sunpy) (2.0.0.3)\n",
            "Requirement already satisfied: PyYAML>=3.13 in /usr/local/lib/python3.10/dist-packages (from astropy>=5.0.1->sunpy) (6.0)\n",
            "Requirement already satisfied: tqdm>=4.27.0 in /usr/local/lib/python3.10/dist-packages (from parfive[ftp]>=2.0.0->sunpy) (4.65.0)\n",
            "Collecting aiohttp (from parfive[ftp]>=2.0.0->sunpy)\n",
            "  Downloading aiohttp-3.8.4-cp310-cp310-manylinux_2_17_x86_64.manylinux2014_x86_64.whl (1.0 MB)\n",
            "\u001b[2K     \u001b[90m━━━━━━━━━━━━━━━━━━━━━━━━━━━━━━━━━━━━━━━━\u001b[0m \u001b[32m1.0/1.0 MB\u001b[0m \u001b[31m56.2 MB/s\u001b[0m eta \u001b[36m0:00:00\u001b[0m\n",
            "\u001b[?25hCollecting aioftp>=0.17.1 (from parfive[ftp]>=2.0.0->sunpy)\n",
            "  Downloading aioftp-0.21.4-py3-none-any.whl (37 kB)\n",
            "Requirement already satisfied: attrs>=17.3.0 in /usr/local/lib/python3.10/dist-packages (from aiohttp->parfive[ftp]>=2.0.0->sunpy) (23.1.0)\n",
            "Requirement already satisfied: charset-normalizer<4.0,>=2.0 in /usr/local/lib/python3.10/dist-packages (from aiohttp->parfive[ftp]>=2.0.0->sunpy) (2.0.12)\n",
            "Collecting multidict<7.0,>=4.5 (from aiohttp->parfive[ftp]>=2.0.0->sunpy)\n",
            "  Downloading multidict-6.0.4-cp310-cp310-manylinux_2_17_x86_64.manylinux2014_x86_64.whl (114 kB)\n",
            "\u001b[2K     \u001b[90m━━━━━━━━━━━━━━━━━━━━━━━━━━━━━━━━━━━━━━\u001b[0m \u001b[32m114.5/114.5 kB\u001b[0m \u001b[31m13.4 MB/s\u001b[0m eta \u001b[36m0:00:00\u001b[0m\n",
            "\u001b[?25hCollecting async-timeout<5.0,>=4.0.0a3 (from aiohttp->parfive[ftp]>=2.0.0->sunpy)\n",
            "  Downloading async_timeout-4.0.2-py3-none-any.whl (5.8 kB)\n",
            "Collecting yarl<2.0,>=1.0 (from aiohttp->parfive[ftp]>=2.0.0->sunpy)\n",
            "  Downloading yarl-1.9.2-cp310-cp310-manylinux_2_17_x86_64.manylinux2014_x86_64.whl (268 kB)\n",
            "\u001b[2K     \u001b[90m━━━━━━━━━━━━━━━━━━━━━━━━━━━━━━━━━━━━━━\u001b[0m \u001b[32m268.8/268.8 kB\u001b[0m \u001b[31m29.6 MB/s\u001b[0m eta \u001b[36m0:00:00\u001b[0m\n",
            "\u001b[?25hCollecting frozenlist>=1.1.1 (from aiohttp->parfive[ftp]>=2.0.0->sunpy)\n",
            "  Downloading frozenlist-1.3.3-cp310-cp310-manylinux_2_5_x86_64.manylinux1_x86_64.manylinux_2_17_x86_64.manylinux2014_x86_64.whl (149 kB)\n",
            "\u001b[2K     \u001b[90m━━━━━━━━━━━━━━━━━━━━━━━━━━━━━━━━━━━━━━\u001b[0m \u001b[32m149.6/149.6 kB\u001b[0m \u001b[31m18.2 MB/s\u001b[0m eta \u001b[36m0:00:00\u001b[0m\n",
            "\u001b[?25hCollecting aiosignal>=1.1.2 (from aiohttp->parfive[ftp]>=2.0.0->sunpy)\n",
            "  Downloading aiosignal-1.3.1-py3-none-any.whl (7.6 kB)\n",
            "Requirement already satisfied: idna>=2.0 in /usr/local/lib/python3.10/dist-packages (from yarl<2.0,>=1.0->aiohttp->parfive[ftp]>=2.0.0->sunpy) (3.4)\n",
            "Installing collected packages: multidict, frozenlist, async-timeout, aioftp, yarl, aiosignal, aiohttp, parfive, sunpy\n",
            "Successfully installed aioftp-0.21.4 aiohttp-3.8.4 aiosignal-1.3.1 async-timeout-4.0.2 frozenlist-1.3.3 multidict-6.0.4 parfive-2.0.2 sunpy-5.0.0 yarl-1.9.2\n"
          ]
        }
      ],
      "source": [
        "try:\n",
        "  import sunpy\n",
        "  print(\"module 'sunpy' is installed\")\n",
        "except ModuleNotFoundError:\n",
        "  !pip install sunpy\n",
        "\n"
      ]
    },
    {
      "cell_type": "code",
      "source": [
        "#module imports\n",
        "import numpy as np\n",
        "import matplotlib.pyplot as plt\n",
        "\n",
        "# makes plots appear in notebook\n",
        "%matplotlib inline\n",
        "\n",
        "from IPython.display import Image\n",
        "\n",
        "from astropy import units as u\n",
        "\n",
        "from pathlib import Path"
      ],
      "metadata": {
        "id": "x_OqSUL2jgr3"
      },
      "execution_count": 3,
      "outputs": []
    },
    {
      "cell_type": "code",
      "source": [],
      "metadata": {
        "id": "SN3Rm5Tqj9Qs"
      },
      "execution_count": null,
      "outputs": []
    },
    {
      "cell_type": "markdown",
      "source": [
        "## Paths\n",
        "\n",
        "When working with data, it will be stored in some location in your computer. You may launch Python (or a notebook) from a different location and require access to the data files stored elsewhere.\n",
        "\n",
        "It can be helpful to use Python's native module *os* which permits you to use your [operating systems functionality](https://docs.python.org/3.7/library/os.html).\n",
        "\n",
        "When you run Python from the terminal, it starts in the directory or folder you are currently working in (unsurprisingly called the *current working directory*). If you use a developer environment, e.g. Pycharm, then you can choose a default working directory.\n",
        "\n",
        "If you don't know what directory you are working in, you can query this:"
      ],
      "metadata": {
        "id": "p4o_W3lwkGux"
      }
    },
    {
      "cell_type": "code",
      "source": [
        "# When you run this you will get a different answer...which is *your* CWD\n",
        "\n",
        "import os\n",
        "print(os.getcwd()) # returns current working directory"
      ],
      "metadata": {
        "colab": {
          "base_uri": "https://localhost:8080/"
        },
        "id": "jc7xdT6QkINp",
        "outputId": "4770009a-869e-432e-b459-614094d3802b"
      },
      "execution_count": 4,
      "outputs": [
        {
          "output_type": "stream",
          "name": "stdout",
          "text": [
            "/content\n"
          ]
        }
      ]
    },
    {
      "cell_type": "markdown",
      "source": [
        "You can see that the result is a path to the directory on my computer where I am working.\n",
        "\n",
        "The first part of the output refers to the home directory, `/Users/richardmorton`. To find your home directory, you can use the following function in *os*"
      ],
      "metadata": {
        "id": "uGJwIP0okWom"
      }
    },
    {
      "cell_type": "code",
      "source": [
        "# When you run this you will get a different answer\n",
        "\n",
        "from os.path import expanduser\n",
        "\n",
        "home = expanduser(\"~\")\n",
        "\n",
        "print(home)"
      ],
      "metadata": {
        "colab": {
          "base_uri": "https://localhost:8080/"
        },
        "id": "hTwgMG1AkPeU",
        "outputId": "b3aceef6-1ab4-4eb7-8a1a-202f50093c8c"
      },
      "execution_count": 5,
      "outputs": [
        {
          "output_type": "stream",
          "name": "stdout",
          "text": [
            "/root\n"
          ]
        }
      ]
    },
    {
      "cell_type": "markdown",
      "source": [
        "You can build paths up in order to access different directories and files.\n",
        "\n",
        "As as simple example, suppose your working in a directory called `top_deck` and your data is stored in a sub folder, called `data_folder`, e.g.\n",
        "\n",
        "```\n",
        "top_deck/\n",
        "   |- analysis_notebook.ipynb\n",
        "   |- data_folder\n",
        "      |- star_data.fits\n",
        "      |- table.csv\n",
        "```\n",
        "\n",
        "You can build paths by using strings in the following way:"
      ],
      "metadata": {
        "id": "NwZiAY-Qkyn7"
      }
    },
    {
      "cell_type": "code",
      "source": [
        "# create string for file path\n",
        "path = (home, 'top_deck', 'data_folder/table.csv')\n",
        "\n",
        "s = '/'\n",
        "filepath = s.join(path)\n",
        "print(filepath)"
      ],
      "metadata": {
        "colab": {
          "base_uri": "https://localhost:8080/"
        },
        "id": "XEF7PIqiknsg",
        "outputId": "c6087d97-8b05-44d7-dfdf-5a69400e8386"
      },
      "execution_count": 6,
      "outputs": [
        {
          "output_type": "stream",
          "name": "stdout",
          "text": [
            "/root/top_deck/data_folder/table.csv\n"
          ]
        }
      ]
    },
    {
      "cell_type": "markdown",
      "source": [
        "These strings can then be used with functions that read in information within files.\n",
        "\n",
        "<br>\n",
        "\n",
        "When writing code for others, the above way of constructing paths can be system dependent, i.e., depends on if you are using Windows, Mac OsX etc.In the above example, the `/` used for separating directories is the Mac OsX way, while windows uses `\\`.\n",
        "\n",
        "There are of course options to build system agnostic paths. This can be done using the `pathlib` module. You can find a detailed example of how the is module works [here](https://realpython.com/python-pathlib/).\n",
        "\n"
      ],
      "metadata": {
        "id": "sxh_ssivk8-7"
      }
    },
    {
      "cell_type": "code",
      "source": [
        "# import Path class from pathlib\n",
        "from pathlib import Path\n",
        "\n",
        "#\n",
        "Path.home()\n"
      ],
      "metadata": {
        "colab": {
          "base_uri": "https://localhost:8080/"
        },
        "id": "hVtLFQ0Nk5Y5",
        "outputId": "dcd009d5-6332-4c1c-8b72-f0a2b110064e"
      },
      "execution_count": 7,
      "outputs": [
        {
          "output_type": "execute_result",
          "data": {
            "text/plain": [
              "PosixPath('/root')"
            ]
          },
          "metadata": {},
          "execution_count": 7
        }
      ]
    },
    {
      "cell_type": "markdown",
      "source": [
        "We can see here a `PosixPath` object is created, this would have been a `WindowsPath` object if I had run this code on windows.\n",
        "\n",
        "There are a number of useful methods that come with the `Path` class that make it easier to build and inspect paths.\n",
        "\n",
        "For example, paths can be joined using the `/` operator."
      ],
      "metadata": {
        "id": "RKeMjhNelEWJ"
      }
    },
    {
      "cell_type": "code",
      "source": [
        "root = Path.home()\n",
        "new_path = root/ 'top_deck' / 'data_folder'\n",
        "new_path"
      ],
      "metadata": {
        "colab": {
          "base_uri": "https://localhost:8080/"
        },
        "id": "dHGxTMLalAiW",
        "outputId": "25e8b48f-0d9a-4e94-8a86-aa845cc578f7"
      },
      "execution_count": 8,
      "outputs": [
        {
          "output_type": "execute_result",
          "data": {
            "text/plain": [
              "PosixPath('/root/top_deck/data_folder')"
            ]
          },
          "metadata": {},
          "execution_count": 8
        }
      ]
    },
    {
      "cell_type": "markdown",
      "source": [
        "Here I just show a few other useful methods"
      ],
      "metadata": {
        "id": "YlYk_T9Tlmdl"
      }
    },
    {
      "cell_type": "code",
      "source": [
        "# Checking to see if a file or directory exists:\n",
        "new_path.exists()"
      ],
      "metadata": {
        "colab": {
          "base_uri": "https://localhost:8080/"
        },
        "id": "NNxWgvJvlhFB",
        "outputId": "5094ebe0-73ed-4467-cb89-0e36a7453af3"
      },
      "execution_count": 9,
      "outputs": [
        {
          "output_type": "execute_result",
          "data": {
            "text/plain": [
              "False"
            ]
          },
          "metadata": {},
          "execution_count": 9
        }
      ]
    },
    {
      "cell_type": "code",
      "source": [
        "# Access the name of the file that the path is pointing to\n",
        "path_to_data = new_path / \"table.csv\"\n",
        "path_to_data.name"
      ],
      "metadata": {
        "colab": {
          "base_uri": "https://localhost:8080/",
          "height": 36
        },
        "id": "YkQG1HCsltQA",
        "outputId": "e0d7a01d-066d-429a-c42d-a3970ba6e799"
      },
      "execution_count": 10,
      "outputs": [
        {
          "output_type": "execute_result",
          "data": {
            "text/plain": [
              "'table.csv'"
            ],
            "application/vnd.google.colaboratory.intrinsic+json": {
              "type": "string"
            }
          },
          "metadata": {},
          "execution_count": 10
        }
      ]
    },
    {
      "cell_type": "code",
      "source": [
        "# Create a new directory, named 'new_folder' within the root directory\n",
        "new_dir = root / \"new_folder\"\n",
        "new_dir.mkdir()"
      ],
      "metadata": {
        "colab": {
          "base_uri": "https://localhost:8080/",
          "height": 336
        },
        "id": "j6SfYIzdluel",
        "outputId": "07864336-066c-4459-a7a5-b28d7b99da98"
      },
      "execution_count": 12,
      "outputs": [
        {
          "output_type": "error",
          "ename": "FileExistsError",
          "evalue": "ignored",
          "traceback": [
            "\u001b[0;31m---------------------------------------------------------------------------\u001b[0m",
            "\u001b[0;31mFileExistsError\u001b[0m                           Traceback (most recent call last)",
            "\u001b[0;32m<ipython-input-12-b1c6d20fd7f1>\u001b[0m in \u001b[0;36m<cell line: 3>\u001b[0;34m()\u001b[0m\n\u001b[1;32m      1\u001b[0m \u001b[0;31m# Create a new directory, named 'new_folder' within the root directory\u001b[0m\u001b[0;34m\u001b[0m\u001b[0;34m\u001b[0m\u001b[0m\n\u001b[1;32m      2\u001b[0m \u001b[0mnew_dir\u001b[0m \u001b[0;34m=\u001b[0m \u001b[0mroot\u001b[0m \u001b[0;34m/\u001b[0m \u001b[0;34m\"new_folder\"\u001b[0m\u001b[0;34m\u001b[0m\u001b[0;34m\u001b[0m\u001b[0m\n\u001b[0;32m----> 3\u001b[0;31m \u001b[0mnew_dir\u001b[0m\u001b[0;34m.\u001b[0m\u001b[0mmkdir\u001b[0m\u001b[0;34m(\u001b[0m\u001b[0;34m)\u001b[0m\u001b[0;34m\u001b[0m\u001b[0;34m\u001b[0m\u001b[0m\n\u001b[0m",
            "\u001b[0;32m/usr/lib/python3.10/pathlib.py\u001b[0m in \u001b[0;36mmkdir\u001b[0;34m(self, mode, parents, exist_ok)\u001b[0m\n\u001b[1;32m   1173\u001b[0m         \"\"\"\n\u001b[1;32m   1174\u001b[0m         \u001b[0;32mtry\u001b[0m\u001b[0;34m:\u001b[0m\u001b[0;34m\u001b[0m\u001b[0;34m\u001b[0m\u001b[0m\n\u001b[0;32m-> 1175\u001b[0;31m             \u001b[0mself\u001b[0m\u001b[0;34m.\u001b[0m\u001b[0m_accessor\u001b[0m\u001b[0;34m.\u001b[0m\u001b[0mmkdir\u001b[0m\u001b[0;34m(\u001b[0m\u001b[0mself\u001b[0m\u001b[0;34m,\u001b[0m \u001b[0mmode\u001b[0m\u001b[0;34m)\u001b[0m\u001b[0;34m\u001b[0m\u001b[0;34m\u001b[0m\u001b[0m\n\u001b[0m\u001b[1;32m   1176\u001b[0m         \u001b[0;32mexcept\u001b[0m \u001b[0mFileNotFoundError\u001b[0m\u001b[0;34m:\u001b[0m\u001b[0;34m\u001b[0m\u001b[0;34m\u001b[0m\u001b[0m\n\u001b[1;32m   1177\u001b[0m             \u001b[0;32mif\u001b[0m \u001b[0;32mnot\u001b[0m \u001b[0mparents\u001b[0m \u001b[0;32mor\u001b[0m \u001b[0mself\u001b[0m\u001b[0;34m.\u001b[0m\u001b[0mparent\u001b[0m \u001b[0;34m==\u001b[0m \u001b[0mself\u001b[0m\u001b[0;34m:\u001b[0m\u001b[0;34m\u001b[0m\u001b[0;34m\u001b[0m\u001b[0m\n",
            "\u001b[0;31mFileExistsError\u001b[0m: [Errno 17] File exists: '/root/new_folder'"
          ]
        }
      ]
    },
    {
      "cell_type": "markdown",
      "source": [],
      "metadata": {
        "id": "mwG4uBBQlpvV"
      }
    }
  ]
}